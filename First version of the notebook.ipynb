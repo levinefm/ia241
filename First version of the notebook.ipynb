{
 "cells": [
  {
   "cell_type": "code",
   "execution_count": 65,
   "metadata": {},
   "outputs": [],
   "source": [
    "%matplotlib inline\n",
    "import pandas "
   ]
  },
  {
   "cell_type": "markdown",
   "metadata": {},
   "source": [
    "# Import Data"
   ]
  },
  {
   "cell_type": "code",
   "execution_count": 66,
   "metadata": {},
   "outputs": [
    {
     "data": {
      "text/html": [
       "<div>\n",
       "<style scoped>\n",
       "    .dataframe tbody tr th:only-of-type {\n",
       "        vertical-align: middle;\n",
       "    }\n",
       "\n",
       "    .dataframe tbody tr th {\n",
       "        vertical-align: top;\n",
       "    }\n",
       "\n",
       "    .dataframe thead th {\n",
       "        text-align: right;\n",
       "    }\n",
       "</style>\n",
       "<table border=\"1\" class=\"dataframe\">\n",
       "  <thead>\n",
       "    <tr style=\"text-align: right;\">\n",
       "      <th></th>\n",
       "      <th>dateRep</th>\n",
       "      <th>day</th>\n",
       "      <th>month</th>\n",
       "      <th>year</th>\n",
       "      <th>cases</th>\n",
       "      <th>deaths</th>\n",
       "      <th>countriesAndTerritories</th>\n",
       "      <th>geoId</th>\n",
       "      <th>countryterritoryCode</th>\n",
       "      <th>popData2018</th>\n",
       "      <th>continentExp</th>\n",
       "    </tr>\n",
       "  </thead>\n",
       "  <tbody>\n",
       "    <tr>\n",
       "      <th>0</th>\n",
       "      <td>2020-05-03</td>\n",
       "      <td>3</td>\n",
       "      <td>5</td>\n",
       "      <td>2020</td>\n",
       "      <td>134</td>\n",
       "      <td>4</td>\n",
       "      <td>Afghanistan</td>\n",
       "      <td>AF</td>\n",
       "      <td>AFG</td>\n",
       "      <td>37172386.0</td>\n",
       "      <td>Asia</td>\n",
       "    </tr>\n",
       "    <tr>\n",
       "      <th>1</th>\n",
       "      <td>2020-05-02</td>\n",
       "      <td>2</td>\n",
       "      <td>5</td>\n",
       "      <td>2020</td>\n",
       "      <td>164</td>\n",
       "      <td>4</td>\n",
       "      <td>Afghanistan</td>\n",
       "      <td>AF</td>\n",
       "      <td>AFG</td>\n",
       "      <td>37172386.0</td>\n",
       "      <td>Asia</td>\n",
       "    </tr>\n",
       "    <tr>\n",
       "      <th>2</th>\n",
       "      <td>2020-05-01</td>\n",
       "      <td>1</td>\n",
       "      <td>5</td>\n",
       "      <td>2020</td>\n",
       "      <td>222</td>\n",
       "      <td>4</td>\n",
       "      <td>Afghanistan</td>\n",
       "      <td>AF</td>\n",
       "      <td>AFG</td>\n",
       "      <td>37172386.0</td>\n",
       "      <td>Asia</td>\n",
       "    </tr>\n",
       "    <tr>\n",
       "      <th>3</th>\n",
       "      <td>2020-04-30</td>\n",
       "      <td>30</td>\n",
       "      <td>4</td>\n",
       "      <td>2020</td>\n",
       "      <td>122</td>\n",
       "      <td>0</td>\n",
       "      <td>Afghanistan</td>\n",
       "      <td>AF</td>\n",
       "      <td>AFG</td>\n",
       "      <td>37172386.0</td>\n",
       "      <td>Asia</td>\n",
       "    </tr>\n",
       "    <tr>\n",
       "      <th>4</th>\n",
       "      <td>2020-04-29</td>\n",
       "      <td>29</td>\n",
       "      <td>4</td>\n",
       "      <td>2020</td>\n",
       "      <td>124</td>\n",
       "      <td>3</td>\n",
       "      <td>Afghanistan</td>\n",
       "      <td>AF</td>\n",
       "      <td>AFG</td>\n",
       "      <td>37172386.0</td>\n",
       "      <td>Asia</td>\n",
       "    </tr>\n",
       "    <tr>\n",
       "      <th>5</th>\n",
       "      <td>2020-04-28</td>\n",
       "      <td>28</td>\n",
       "      <td>4</td>\n",
       "      <td>2020</td>\n",
       "      <td>172</td>\n",
       "      <td>0</td>\n",
       "      <td>Afghanistan</td>\n",
       "      <td>AF</td>\n",
       "      <td>AFG</td>\n",
       "      <td>37172386.0</td>\n",
       "      <td>Asia</td>\n",
       "    </tr>\n",
       "    <tr>\n",
       "      <th>6</th>\n",
       "      <td>2020-04-27</td>\n",
       "      <td>27</td>\n",
       "      <td>4</td>\n",
       "      <td>2020</td>\n",
       "      <td>68</td>\n",
       "      <td>10</td>\n",
       "      <td>Afghanistan</td>\n",
       "      <td>AF</td>\n",
       "      <td>AFG</td>\n",
       "      <td>37172386.0</td>\n",
       "      <td>Asia</td>\n",
       "    </tr>\n",
       "    <tr>\n",
       "      <th>7</th>\n",
       "      <td>2020-04-26</td>\n",
       "      <td>26</td>\n",
       "      <td>4</td>\n",
       "      <td>2020</td>\n",
       "      <td>112</td>\n",
       "      <td>4</td>\n",
       "      <td>Afghanistan</td>\n",
       "      <td>AF</td>\n",
       "      <td>AFG</td>\n",
       "      <td>37172386.0</td>\n",
       "      <td>Asia</td>\n",
       "    </tr>\n",
       "    <tr>\n",
       "      <th>8</th>\n",
       "      <td>2020-04-25</td>\n",
       "      <td>25</td>\n",
       "      <td>4</td>\n",
       "      <td>2020</td>\n",
       "      <td>70</td>\n",
       "      <td>1</td>\n",
       "      <td>Afghanistan</td>\n",
       "      <td>AF</td>\n",
       "      <td>AFG</td>\n",
       "      <td>37172386.0</td>\n",
       "      <td>Asia</td>\n",
       "    </tr>\n",
       "    <tr>\n",
       "      <th>9</th>\n",
       "      <td>2020-04-24</td>\n",
       "      <td>24</td>\n",
       "      <td>4</td>\n",
       "      <td>2020</td>\n",
       "      <td>105</td>\n",
       "      <td>2</td>\n",
       "      <td>Afghanistan</td>\n",
       "      <td>AF</td>\n",
       "      <td>AFG</td>\n",
       "      <td>37172386.0</td>\n",
       "      <td>Asia</td>\n",
       "    </tr>\n",
       "  </tbody>\n",
       "</table>\n",
       "</div>"
      ],
      "text/plain": [
       "     dateRep  day  month  year  cases  deaths countriesAndTerritories geoId  \\\n",
       "0 2020-05-03    3      5  2020    134       4             Afghanistan    AF   \n",
       "1 2020-05-02    2      5  2020    164       4             Afghanistan    AF   \n",
       "2 2020-05-01    1      5  2020    222       4             Afghanistan    AF   \n",
       "3 2020-04-30   30      4  2020    122       0             Afghanistan    AF   \n",
       "4 2020-04-29   29      4  2020    124       3             Afghanistan    AF   \n",
       "5 2020-04-28   28      4  2020    172       0             Afghanistan    AF   \n",
       "6 2020-04-27   27      4  2020     68      10             Afghanistan    AF   \n",
       "7 2020-04-26   26      4  2020    112       4             Afghanistan    AF   \n",
       "8 2020-04-25   25      4  2020     70       1             Afghanistan    AF   \n",
       "9 2020-04-24   24      4  2020    105       2             Afghanistan    AF   \n",
       "\n",
       "  countryterritoryCode  popData2018 continentExp  \n",
       "0                  AFG   37172386.0         Asia  \n",
       "1                  AFG   37172386.0         Asia  \n",
       "2                  AFG   37172386.0         Asia  \n",
       "3                  AFG   37172386.0         Asia  \n",
       "4                  AFG   37172386.0         Asia  \n",
       "5                  AFG   37172386.0         Asia  \n",
       "6                  AFG   37172386.0         Asia  \n",
       "7                  AFG   37172386.0         Asia  \n",
       "8                  AFG   37172386.0         Asia  \n",
       "9                  AFG   37172386.0         Asia  "
      ]
     },
     "execution_count": 66,
     "metadata": {},
     "output_type": "execute_result"
    }
   ],
   "source": [
    "df = pandas.read_excel('s3://levine-ia241/COVID-19-geographic-disbtribution-worldwide-2020-05-03.xlsx')\n",
    "df[:10] #the top 10 rows"
   ]
  },
  {
   "cell_type": "markdown",
   "metadata": {},
   "source": [
    "# Top 5 Countries with Highest Population Data 2018"
   ]
  },
  {
   "cell_type": "code",
   "execution_count": 82,
   "metadata": {
    "scrolled": true
   },
   "outputs": [
    {
     "data": {
      "text/plain": [
       "countriesAndTerritories\n",
       "China                       1.740912e+11\n",
       "India                       1.677245e+11\n",
       "United_States_of_America    4.089593e+10\n",
       "Indonesia                   3.158429e+10\n",
       "Brazil                      2.618367e+10\n",
       "Name: popData2018, dtype: float64"
      ]
     },
     "execution_count": 82,
     "metadata": {},
     "output_type": "execute_result"
    }
   ],
   "source": [
    "sum_pop_by_country = df.groupby('countriesAndTerritories').sum()['popData2018']\n",
    "sum_pop_by_country.nlargest(5)"
   ]
  },
  {
   "cell_type": "markdown",
   "metadata": {},
   "source": [
    "# Top 10 Countries with the Lowest Amount of Cases "
   ]
  },
  {
   "cell_type": "code",
   "execution_count": 83,
   "metadata": {},
   "outputs": [
    {
     "data": {
      "text/plain": [
       "countriesAndTerritories\n",
       "Comoros                               1\n",
       "Anguilla                              3\n",
       "Bonaire, Saint Eustatius and Saba     6\n",
       "British_Virgin_Islands                6\n",
       "Western_Sahara                        6\n",
       "Bhutan                                7\n",
       "Mauritania                            8\n",
       "Papua_New_Guinea                      8\n",
       "Suriname                             10\n",
       "Yemen                                10\n",
       "Name: cases, dtype: int64"
      ]
     },
     "execution_count": 83,
     "metadata": {},
     "output_type": "execute_result"
    }
   ],
   "source": [
    "sum_death_by_country = df.groupby('countriesAndTerritories').sum()['cases']\n",
    "sum_death_by_country.nsmallest(10)"
   ]
  },
  {
   "cell_type": "markdown",
   "metadata": {},
   "source": [
    "# Top 10 Countries with Highest Deaths per Day"
   ]
  },
  {
   "cell_type": "code",
   "execution_count": 69,
   "metadata": {},
   "outputs": [
    {
     "data": {
      "text/plain": [
       "countriesAndTerritories\n",
       "United_States_of_America    66385\n",
       "Italy                       28710\n",
       "United_Kingdom              28131\n",
       "Spain                       25100\n",
       "France                      24760\n",
       "Belgium                      7765\n",
       "Brazil                       6750\n",
       "Germany                      6649\n",
       "Iran                         6156\n",
       "Netherlands                  4987\n",
       "Name: deaths, dtype: int64"
      ]
     },
     "execution_count": 69,
     "metadata": {},
     "output_type": "execute_result"
    }
   ],
   "source": [
    "sum_death_by_date = df.groupby('countriesAndTerritories').sum()['deaths']\n",
    "\n",
    "sum_death_by_date.nlargest(10)"
   ]
  },
  {
   "cell_type": "markdown",
   "metadata": {},
   "source": [
    "# The Sum of Death Numbers per Day"
   ]
  },
  {
   "cell_type": "code",
   "execution_count": 84,
   "metadata": {},
   "outputs": [
    {
     "data": {
      "text/plain": [
       "<matplotlib.axes._subplots.AxesSubplot at 0x7f5ea54e1198>"
      ]
     },
     "execution_count": 84,
     "metadata": {},
     "output_type": "execute_result"
    },
    {
     "data": {
      "image/png": "[encoded data removed]",
      "text/plain": [
       "<Figure size 432x288 with 1 Axes>"
      ]
     },
     "metadata": {},
     "output_type": "display_data"
    }
   ],
   "source": [
    "sum_death_by_date = df.groupby('dateRep').sum()['deaths']\n",
    "\n",
    "sum_death_by_date.plot()"
   ]
  },
  {
   "cell_type": "markdown",
   "metadata": {},
   "source": [
    "Interpretation: This line graph shows the number of deaths per month. You can see that there were few deaths between January and March but then exponentially increased between March and mid-April."
   ]
  },
  {
   "cell_type": "markdown",
   "metadata": {},
   "source": [
    "# The Sum of Case Numbers per Country"
   ]
  },
  {
   "cell_type": "code",
   "execution_count": 70,
   "metadata": {},
   "outputs": [
    {
     "data": {
      "text/plain": [
       "countriesAndTerritories\n",
       "Afghanistan                             2469\n",
       "Albania                                  789\n",
       "Algeria                                 4295\n",
       "Andorra                                  747\n",
       "Angola                                    35\n",
       "Anguilla                                   3\n",
       "Antigua_and_Barbuda                       25\n",
       "Argentina                               4668\n",
       "Armenia                                 2273\n",
       "Aruba                                    100\n",
       "Australia                               6783\n",
       "Austria                                15558\n",
       "Azerbaijan                              1894\n",
       "Bahamas                                   83\n",
       "Bahrain                                 3284\n",
       "Bangladesh                              8790\n",
       "Barbados                                  81\n",
       "Belarus                                15828\n",
       "Belgium                                49517\n",
       "Belize                                    18\n",
       "Benin                                     90\n",
       "Bermuda                                  114\n",
       "Bhutan                                     7\n",
       "Bolivia                                 1470\n",
       "Bonaire, Saint Eustatius and Saba          6\n",
       "Bosnia_and_Herzegovina                  1839\n",
       "Botswana                                  23\n",
       "Brazil                                 96559\n",
       "British_Virgin_Islands                     6\n",
       "Brunei_Darussalam                        138\n",
       "                                      ...   \n",
       "Sri_Lanka                                705\n",
       "Sudan                                    592\n",
       "Suriname                                  10\n",
       "Sweden                                 22082\n",
       "Switzerland                            29734\n",
       "Syria                                     44\n",
       "Taiwan                                   432\n",
       "Tajikistan                                32\n",
       "Thailand                                2966\n",
       "Timor_Leste                               24\n",
       "Togo                                     123\n",
       "Trinidad_and_Tobago                      116\n",
       "Tunisia                                 1009\n",
       "Turkey                                124375\n",
       "Turks_and_Caicos_islands                  12\n",
       "Uganda                                    88\n",
       "Ukraine                                11411\n",
       "United_Arab_Emirates                   13599\n",
       "United_Kingdom                        182260\n",
       "United_Republic_of_Tanzania              480\n",
       "United_States_Virgin_Islands              66\n",
       "United_States_of_America             1133069\n",
       "Uruguay                                  652\n",
       "Uzbekistan                              2127\n",
       "Venezuela                                345\n",
       "Vietnam                                  270\n",
       "Western_Sahara                             6\n",
       "Yemen                                     10\n",
       "Zambia                                   119\n",
       "Zimbabwe                                  34\n",
       "Name: cases, Length: 209, dtype: int64"
      ]
     },
     "execution_count": 70,
     "metadata": {},
     "output_type": "execute_result"
    }
   ],
   "source": [
    "sum_deaths_per_country = df.groupby('countriesAndTerritories').sum()['cases']\n",
    "sum_deaths_per_country"
   ]
  },
  {
   "cell_type": "markdown",
   "metadata": {},
   "source": [
    "# Top 10 Countries with the Highest Amount of Cases"
   ]
  },
  {
   "cell_type": "code",
   "execution_count": 71,
   "metadata": {},
   "outputs": [
    {
     "data": {
      "text/plain": [
       "<matplotlib.axes._subplots.AxesSubplot at 0x7f5ea9b43a90>"
      ]
     },
     "execution_count": 71,
     "metadata": {},
     "output_type": "execute_result"
    },
    {
     "data": {
      "image/png": "[encoded data removed]",
      "text/plain": [
       "<Figure size 432x288 with 1 Axes>"
      ]
     },
     "metadata": {},
     "output_type": "display_data"
    }
   ],
   "source": [
    "sum_cases_per_country = df.groupby('countriesAndTerritories').sum()['cases']\n",
    "sum_cases_per_country.nlargest(10).plot.bar()"
   ]
  },
  {
   "cell_type": "markdown",
   "metadata": {},
   "source": [
    "Interpretation: This bar graph shows the top 10 countries with the highest amount of cases. It shows the U.S. as the number one country in the world currently with the most cases of COVID-19, and has significantly more cases than the other countries listed."
   ]
  },
  {
   "cell_type": "markdown",
   "metadata": {},
   "source": [
    "# Number of Deaths per Continent"
   ]
  },
  {
   "cell_type": "code",
   "execution_count": 72,
   "metadata": {},
   "outputs": [
    {
     "data": {
      "text/plain": [
       "<matplotlib.axes._subplots.AxesSubplot at 0x7f5ea54f8400>"
      ]
     },
     "execution_count": 72,
     "metadata": {},
     "output_type": "execute_result"
    },
    {
     "data": {
      "image/png": "[encoded data removed]",
      "text/plain": [
       "<Figure size 432x288 with 1 Axes>"
      ]
     },
     "metadata": {},
     "output_type": "display_data"
    }
   ],
   "source": [
    "global_data = df.groupby('continentExp').sum()['deaths']\n",
    "global_data.plot.bar()"
   ]
  },
  {
   "cell_type": "markdown",
   "metadata": {},
   "source": [
    "Interpretation: This bar graph shows the number of deaths per continent. It shows that Europe is the leading country with the most amount of deaths due to COVID-19, while America is second. "
   ]
  },
  {
   "cell_type": "markdown",
   "metadata": {},
   "source": [
    "# COVID-19 Background"
   ]
  },
  {
   "cell_type": "markdown",
   "metadata": {},
   "source": [
    "COVID-19 is an infectious disease that causes mild to moderate respiratory illnesses among most people affected. It started in Wuhan City, China late 2019 and spread throughout the world as people traveled, creating a worldwide pandemic in early 2020. "
   ]
  },
  {
   "cell_type": "markdown",
   "metadata": {},
   "source": [
    "# Data Source"
   ]
  },
  {
   "cell_type": "markdown",
   "metadata": {},
   "source": [
    "The data source for this project is the European Centre for Disease Prevention and Control "
   ]
  },
  {
   "cell_type": "markdown",
   "metadata": {},
   "source": [
    "# Conclusion"
   ]
  },
  {
   "cell_type": "markdown",
   "metadata": {},
   "source": [
    "This project shows different visualizations of statistical information about the COVID-19 pandemic such as: The sum of death numbers per day, the top 10 countries with the highest amount of cases, and the number of deaths per continent. Furthermore, calcultions without visualizations are also provided which show: the sum of case numbers per country, the top 10 countries with highest deaths per day, the top 10 countries with the lowest amount of cases, and the top 10 countries with the highest amount of cases in 2018. "
   ]
  },
  {
   "cell_type": "markdown",
   "metadata": {},
   "source": [
    "# Limitations"
   ]
  },
  {
   "cell_type": "markdown",
   "metadata": {},
   "source": [
    "A limitation to this project is that the information used is only up until 3 May 2020. Furthermore, some of the data used is inconsistent as it does not calculate data from countries beginning on a specific date. Each country has different starting dates where data was collected, which was not dependent on the amount of active/confirmed cases."
   ]
  }
 ],
 "metadata": {
  "kernelspec": {
   "display_name": "conda_python3",
   "language": "python",
   "name": "conda_python3"
  },
  "language_info": {
   "codemirror_mode": {
    "name": "ipython",
    "version": 3
   },
   "file_extension": ".py",
   "mimetype": "text/x-python",
   "name": "python",
   "nbconvert_exporter": "python",
   "pygments_lexer": "ipython3",
   "version": "3.6.5"
  }
 },
 "nbformat": 4,
 "nbformat_minor": 4
}
